{
  "nbformat": 4,
  "nbformat_minor": 0,
  "metadata": {
    "colab": {
      "provenance": [],
      "authorship_tag": "ABX9TyN9Mqloga5c1fwwi1/EagQ2",
      "include_colab_link": true
    },
    "kernelspec": {
      "name": "python3",
      "display_name": "Python 3"
    },
    "language_info": {
      "name": "python"
    }
  },
  "cells": [
    {
      "cell_type": "markdown",
      "metadata": {
        "id": "view-in-github",
        "colab_type": "text"
      },
      "source": [
        "<a href=\"https://colab.research.google.com/github/Bharath-0824/Natural-Language-Processing-Tasks/blob/main/Task_1_.ipynb\" target=\"_parent\"><img src=\"https://colab.research.google.com/assets/colab-badge.svg\" alt=\"Open In Colab\"/></a>"
      ]
    },
    {
      "cell_type": "code",
      "execution_count": null,
      "metadata": {
        "colab": {
          "base_uri": "https://localhost:8080/"
        },
        "id": "NLzoVzw457A-",
        "outputId": "04e8065c-7f34-45f4-9bec-d69aa52bb58a"
      },
      "outputs": [
        {
          "output_type": "stream",
          "name": "stdout",
          "text": [
            "Match found: abc\n",
            "Character found: H\n",
            "Vowel found: e\n",
            "Social Security Number: 123-45-6789\n",
            "Dot found: .\n",
            "Day: 01\n",
            "Month: 09\n",
            "Year: 2024\n",
            "Animal found: cat\n"
          ]
        }
      ],
      "source": [
        "import re\n",
        "pattern1 = re.compile(r'abc')\n",
        "result1 = pattern1.match('abcdef')\n",
        "if result1:\n",
        "    print(\"Match found:\", result1.group())\n",
        "\n",
        "pattern2 = re.compile(r'.')\n",
        "result2 = pattern2.search('Hello')\n",
        "if result2:\n",
        "    print(\"Character found:\", result2.group())\n",
        "\n",
        "pattern3 = re.compile(r'[aeiou]')\n",
        "result3 = pattern3.search('Hello')\n",
        "if result3:\n",
        "    print(\"Vowel found:\", result3.group())\n",
        "\n",
        "\n",
        "pattern4 = re.compile(r'\\d{3}-\\d{2}-\\d{4}')\n",
        "result4 = pattern4.match('123-45-6789')\n",
        "if result4:\n",
        "    print(\"Social Security Number:\", result4.group())\n",
        "\n",
        "pattern5 = re.compile(r'\\.')\n",
        "result5 = pattern5.search('www.example.com')\n",
        "if result5:\n",
        "    print(\"Dot found:\", result5.group())\n",
        "\n",
        "pattern6 = re.compile(r'(\\d{2})/(\\d{2})/(\\d{4})')\n",
        "result6 = pattern6.match('01/09/2024')\n",
        "if result6:\n",
        "    print(\"Day:\", result6.group(1))\n",
        "    print(\"Month:\", result6.group(2))\n",
        "    print(\"Year:\", result6.group(3))\n",
        "\n",
        "\n",
        "\n",
        "\n",
        "pattern7 = re.compile(r'cat|dog')\n",
        "result7 = pattern7.search('I have a cat and a dog')\n",
        "if result7:\n",
        "    print(\"Animal found:\", result7.group())\n"
      ]
    }
  ]
}
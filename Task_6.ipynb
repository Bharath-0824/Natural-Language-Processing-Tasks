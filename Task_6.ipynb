{
  "nbformat": 4,
  "nbformat_minor": 0,
  "metadata": {
    "colab": {
      "provenance": [],
      "authorship_tag": "ABX9TyNyCSaB/20/GWZmTAMto+xH",
      "include_colab_link": true
    },
    "kernelspec": {
      "name": "python3",
      "display_name": "Python 3"
    },
    "language_info": {
      "name": "python"
    }
  },
  "cells": [
    {
      "cell_type": "markdown",
      "metadata": {
        "id": "view-in-github",
        "colab_type": "text"
      },
      "source": [
        "<a href=\"https://colab.research.google.com/github/Bharath-0824/Natural-Language-Processing-Tasks/blob/main/Task_6.ipynb\" target=\"_parent\"><img src=\"https://colab.research.google.com/assets/colab-badge.svg\" alt=\"Open In Colab\"/></a>"
      ]
    },
    {
      "cell_type": "code",
      "metadata": {
        "colab": {
          "base_uri": "https://localhost:8080/"
        },
        "id": "1371da9f",
        "outputId": "1d001012-489b-4be8-8996-efad53e4d60a"
      },
      "source": [
        " import nltk\n",
        "nltk.download('punkt_tab')"
      ],
      "execution_count": null,
      "outputs": [
        {
          "output_type": "stream",
          "name": "stderr",
          "text": [
            "[nltk_data] Downloading package punkt_tab to /root/nltk_data...\n",
            "[nltk_data]   Package punkt_tab is already up-to-date!\n"
          ]
        },
        {
          "output_type": "execute_result",
          "data": {
            "text/plain": [
              "True"
            ]
          },
          "metadata": {},
          "execution_count": 11
        }
      ]
    },
    {
      "cell_type": "code",
      "metadata": {
        "colab": {
          "base_uri": "https://localhost:8080/"
        },
        "id": "069afabd",
        "outputId": "34c8af85-4190-4fd5-ad91-f881534eb346"
      },
      "source": [
        "from nltk.util import ngrams\n",
        "from nltk.lm import Laplace\n",
        "from nltk.tokenize import word_tokenize\n",
        "from nltk.lm.preprocessing import padded_everygram_pipeline\n",
        "\n",
        "def ngram_smoothing(sentence, n):\n",
        "    tokens = word_tokenize(sentence.lower())\n",
        "    train_data, padded_sents = padded_everygram_pipeline(n, [tokens])\n",
        "    model = Laplace(n)\n",
        "    model.fit(train_data, padded_sents)\n",
        "    return model\n",
        "\n",
        "sentence = input(\"Enter a sentence: \")\n",
        "n = int(input(\"Enter the value of N for N-grams: \"))\n",
        "\n",
        "model = ngram_smoothing(sentence, n)\n",
        "\n",
        "tokens = word_tokenize(sentence.lower())\n",
        "context = tokens[-n+1:] if n > 1 else []\n",
        "\n",
        "next_words = [model.generate(text_seed=context) for _ in range(3)]\n",
        "print(\"Next words:\", ' '.join(next_words))\n"
      ],
      "execution_count": null,
      "outputs": [
        {
          "output_type": "stream",
          "name": "stdout",
          "text": [
            "Enter a sentence:  this is the sample example taken to evaluate the n-gram smoothening technique\n",
            "Enter the value of N for N-grams: 10\n",
            "Next words: </s> </s> </s>\n"
          ]
        }
      ]
    }
  ]
}
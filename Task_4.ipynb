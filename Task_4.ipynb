{
  "nbformat": 4,
  "nbformat_minor": 0,
  "metadata": {
    "colab": {
      "provenance": [],
      "authorship_tag": "ABX9TyP8cyUzuUSX/jZ3VJ+LmFhI",
      "include_colab_link": true
    },
    "kernelspec": {
      "name": "python3",
      "display_name": "Python 3"
    },
    "language_info": {
      "name": "python"
    }
  },
  "cells": [
    {
      "cell_type": "markdown",
      "metadata": {
        "id": "view-in-github",
        "colab_type": "text"
      },
      "source": [
        "<a href=\"https://colab.research.google.com/github/Bharath-0824/Natural-Language-Processing-Tasks/blob/main/Task_4.ipynb\" target=\"_parent\"><img src=\"https://colab.research.google.com/assets/colab-badge.svg\" alt=\"Open In Colab\"/></a>"
      ]
    },
    {
      "cell_type": "code",
      "execution_count": null,
      "metadata": {
        "id": "SYfXCxZ8Kb8d",
        "colab": {
          "base_uri": "https://localhost:8080/"
        },
        "outputId": "089e6215-f7ed-422f-c4dc-2154db728349"
      },
      "outputs": [
        {
          "output_type": "stream",
          "name": "stdout",
          "text": [
            "Morphology of the document:\n",
            "paragraph: 1\n",
            "group: 1\n",
            "sentences: 2\n",
            "specific: 1\n",
            "topic: 2\n",
            "organized: 1\n",
            "express: 1\n",
            "single: 1\n",
            "idea: 2\n",
            "typically: 1\n",
            "starts: 1\n",
            "sentence: 2\n",
            "introduces: 1\n",
            "main: 2\n",
            "point: 1\n",
            "followed: 1\n",
            "supporting: 1\n",
            "provide: 1\n",
            "details: 1\n",
            "examples: 1\n",
            "explanations: 1\n",
            "concluding: 1\n",
            "may: 1\n",
            "summarize: 1\n",
            "offer: 1\n",
            "final: 1\n",
            "thought: 1\n",
            "related: 1\n",
            "itopc: 1\n",
            "paragraphs: 1\n",
            "help: 1\n",
            "structure: 1\n",
            "longer: 1\n",
            "pieces: 1\n",
            "writing: 1\n",
            "making: 1\n",
            "easier: 1\n",
            "read: 1\n",
            "understand: 1\n",
            "breaking: 1\n",
            "information: 1\n",
            "manageable: 1\n",
            "chunks: 1\n"
          ]
        },
        {
          "output_type": "stream",
          "name": "stderr",
          "text": [
            "[nltk_data] Downloading package punkt to /root/nltk_data...\n",
            "[nltk_data]   Package punkt is already up-to-date!\n",
            "[nltk_data] Downloading package stopwords to /root/nltk_data...\n",
            "[nltk_data]   Package stopwords is already up-to-date!\n",
            "[nltk_data] Downloading package punkt_tab to /root/nltk_data...\n",
            "[nltk_data]   Package punkt_tab is already up-to-date!\n"
          ]
        }
      ],
      "source": [
        "import nltk\n",
        "from nltk.tokenize import word_tokenize\n",
        "from nltk.corpus import stopwords\n",
        "from nltk.probability import FreqDist\n",
        "\n",
        "nltk.download('punkt')\n",
        "nltk.download('stopwords')\n",
        "nltk.download('punkt_tab')\n",
        "\n",
        "def load_document(file_path):\n",
        "    with open(file_path, 'r', encoding='utf-8') as file:\n",
        "        return file.read()\n",
        "\n",
        "def tokenize_document(document):\n",
        "    tokens = word_tokenize(document)\n",
        "    return [word.lower() for word in tokens if word.isalpha()]\n",
        "\n",
        "def remove_stopwords(tokens):\n",
        "    stop_words = set(stopwords.words('english'))\n",
        "    return [word for word in tokens if word not in stop_words]\n",
        "\n",
        "def find_morphology(tokens):\n",
        "    fdist = FreqDist(tokens)\n",
        "    return fdist\n",
        "\n",
        "document_path = '/content/task4.txt'\n",
        "\n",
        "document = load_document(document_path)\n",
        "tokens = tokenize_document(document)\n",
        "tokens_without_stopwords = remove_stopwords(tokens)\n",
        "morphology = find_morphology(tokens_without_stopwords)\n",
        "print(\"Morphology of the document:\")\n",
        "for word, frequency in morphology.items():\n",
        "    print(f\"{word}: {frequency}\")"
      ]
    }
  ]
}